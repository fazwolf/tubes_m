{
 "cells": [
  {
   "cell_type": "code",
   "execution_count": 0,
   "metadata": {
    "colab": {},
    "colab_type": "code",
    "id": "r5Gex8ACPhAq"
   },
   "outputs": [],
   "source": [
    "import numpy as np\n",
    "import matplotlib.pyplot as plt\n",
    "import glob as gb\n",
    "from matplotlib import animation\n",
    "from os.path import exists\n",
    "from google.colab import files\n",
    "from PIL import Image"
   ]
  },
  {
   "cell_type": "code",
   "execution_count": 0,
   "metadata": {
    "colab": {},
    "colab_type": "code",
    "id": "WLquHH03Pi7p"
   },
   "outputs": [],
   "source": [
    "def gen_img(x_sehat, x_terinfeksi, x_sembuh, y_sehat , y_terinfeksi, y_sembuh, n_terinfeksi, n_sembuh, sembuh, terinfeksi, hari):\n",
    "  \n",
    "  x = (x_sehat, x_terinfeksi, x_sembuh)\n",
    "  y = (y_sehat, y_terinfeksi, y_sembuh)\n",
    "\n",
    "  groups = (\"Sehat\",\"Terinfeksi\", \"Sembuh\")\n",
    "  colors = (\"blue\",\"red\", \"green\")\n",
    "  markers = (\"o\",\"o\",\"o\")\n",
    "  sizes = (50,100,100)\n",
    "  \n",
    "  fig = plt.figure(figsize=(8, 8))\n",
    "  ax = fig.add_subplot(1, 1, 1)\n",
    "  plt.grid\n",
    "\n",
    "  for x, y, color, group, markers, sizes in zip(x, y, colors, groups, markers, sizes):\n",
    "    ax.scatter(x, y, alpha=0.8, c=color, edgecolors=color, s=sizes, label=group,\n",
    "               marker=markers )\n",
    "\n",
    "  if hari == 1:\n",
    "    plt.title('Hari ke-'+str(hari)+'     Terinfeksi = '+str(n_terinfeksi-terinfeksi)+' orang  (+0 orang)     Sembuh = 0 orang  (+0 orang)')\n",
    "  elif hari>1:\n",
    "    plt.title('Hari ke-'+str(hari)+'     Terinfeksi = '+str(n_terinfeksi-terinfeksi)+' orang  (+'+str(terinfeksi)+' orang)'+\n",
    "              '     Sembuh = '+str(n_sembuh)+' orang  (+'+str(sembuh)+' orang)')\n",
    "\n",
    "  plt.legend(loc='upper center', bbox_to_anchor=(0.5, -0.05),\n",
    "          fancybox=True, shadow=True, ncol=5)\n",
    "  plt.show()\n",
    "\n",
    "  if exists('image/hari.png') and (hari != 1):\n",
    "      fig.savefig('image/hari{}.png'.format(int(hari)))\n",
    "      files.download('image/hari{}.png'.format(int(hari)))\n",
    "      \n",
    "  else:\n",
    "      fig.savefig('image/hari.png')\n",
    "      files.download('image/hari.png')"
   ]
  }
 ],
 "metadata": {
  "colab": {
   "name": "random_walk-checkpoint.ipynb",
   "provenance": []
  },
  "kernelspec": {
   "display_name": "Python 3",
   "language": "python",
   "name": "python3"
  },
  "language_info": {
   "codemirror_mode": {
    "name": "ipython",
    "version": 3
   },
   "file_extension": ".py",
   "mimetype": "text/x-python",
   "name": "python",
   "nbconvert_exporter": "python",
   "pygments_lexer": "ipython3",
   "version": "3.7.6"
  }
 },
 "nbformat": 4,
 "nbformat_minor": 1
}

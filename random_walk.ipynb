{
  "nbformat": 4,
  "nbformat_minor": 0,
  "metadata": {
    "colab": {
      "name": "random_walk-checkpoint.ipynb",
      "provenance": []
    },
    "kernelspec": {
      "name": "python3",
      "display_name": "Python 3"
    }
  },
  "cells": [
    {
      "cell_type": "code",
      "metadata": {
        "id": "r5Gex8ACPhAq",
        "colab_type": "code",
        "colab": {}
      },
      "source": [
        "import numpy as np\n",
        "import matplotlib.pyplot as plt\n",
        "import glob as gb\n",
        "from matplotlib import animation\n",
        "from os.path import exists\n",
        "from google.colab import files\n",
        "from PIL import Image"
      ],
      "execution_count": 0,
      "outputs": []
    },
    {
      "cell_type": "code",
      "metadata": {
        "id": "WLquHH03Pi7p",
        "colab_type": "code",
        "colab": {}
      },
      "source": [
        "def gen_img(x_sehat, x_terinfeksi, x_sembuh, y_sehat , y_terinfeksi, y_sembuh, n_terinfeksi, n_sembuh, sembuh, terinfeksi, hari):\n",
        "  \n",
        "  x = (x_sehat, x_terinfeksi, x_sembuh)\n",
        "  y = (y_sehat, y_terinfeksi, y_sembuh)\n",
        "\n",
        "  groups = (\"Sehat\",\"Terinfeksi\", \"Sembuh\")\n",
        "  colors = (\"blue\",\"red\", \"green\")\n",
        "  markers = (\"o\",\"o\",\"o\")\n",
        "  sizes = (50,100,100)\n",
        "  \n",
        "  fig = plt.figure(figsize=(8, 8))\n",
        "  ax = fig.add_subplot(1, 1, 1)\n",
        "  plt.grid\n",
        "\n",
        "  for x, y, color, group, markers, sizes in zip(x, y, colors, groups, markers, sizes):\n",
        "    ax.scatter(x, y, alpha=0.8, c=color, edgecolors=color, s=sizes, label=group,\n",
        "               marker=markers )\n",
        "\n",
        "  if hari == 1:\n",
        "    plt.title('Hari ke-'+str(hari)+'     Terinfeksi = '+str(n_terinfeksi-terinfeksi)+' orang  (+0 orang)     Sembuh = 0 orang  (+0 orang)')\n",
        "  elif hari>1:\n",
        "    plt.title('Hari ke-'+str(hari)+'     Terinfeksi = '+str(n_terinfeksi-terinfeksi)+' orang  (+'+str(terinfeksi)+' orang)'+\n",
        "              '     Sembuh = '+str(n_sembuh)+' orang  (+'+str(sembuh)+' orang)')\n",
        "\n",
        "  plt.legend(loc='upper center', bbox_to_anchor=(0.5, -0.05),\n",
        "          fancybox=True, shadow=True, ncol=5)\n",
        "  plt.show()\n",
        "\n",
        "  if exists('image/hari.png') and (hari != 1):\n",
        "      fig.savefig('image/hari{}.png'.format(int(hari)))\n",
        "      files.download('image/hari{}.png'.format(int(hari)))\n",
        "      \n",
        "  else:\n",
        "      fig.savefig('image/hari.png')\n",
        "      files.download('image/hari.png')"
      ],
      "execution_count": 0,
      "outputs": []
    }
  ]
}